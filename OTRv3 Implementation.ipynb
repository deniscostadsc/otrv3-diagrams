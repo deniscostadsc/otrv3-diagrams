{
 "cells": [
  {
   "cell_type": "markdown",
   "metadata": {},
   "source": [
    "# OTRv3 Implementation\n",
    "\n",
    "**This document is a didatic experiment, do not use this code in production!**"
   ]
  },
  {
   "cell_type": "code",
   "execution_count": 1,
   "metadata": {},
   "outputs": [
    {
     "data": {
      "text/plain": [
       "16"
      ]
     },
     "execution_count": 1,
     "metadata": {},
     "output_type": "execute_result"
    }
   ],
   "source": [
    "import random\n",
    "import base64\n",
    "import hashlib\n",
    "\n",
    "from Crypto import Random\n",
    "from Crypto.Cipher import AES\n",
    "\n",
    "class AESCipher(object):\n",
    "\n",
    "    def __init__(self): \n",
    "        self.bs = 32\n",
    "\n",
    "    def encrypt(self, raw, key):\n",
    "        raw = self._pad(raw)\n",
    "        key = hashlib.sha256(key.encode()).digest()\n",
    "        \n",
    "        iv = Random.new().read(AES.block_size)\n",
    "        cipher = AES.new(key, AES.MODE_CBC, iv)\n",
    "        return base64.b64encode(iv + cipher.encrypt(raw))\n",
    "\n",
    "    def decrypt(self, enc, key):\n",
    "        enc = base64.b64decode(enc)\n",
    "        key = hashlib.sha256(key.encode()).digest()\n",
    "        \n",
    "        iv = enc[:AES.block_size]\n",
    "        cipher = AES.new(key, AES.MODE_CBC, iv)\n",
    "        return self._unpad(cipher.decrypt(enc[AES.block_size:])).decode('utf-8')\n",
    "                                                                                                                                                                                                                                                                                                                                                                                                                                                                                                                                                                                                                                                                                                                                                                                                                                                                                                                                                                                                \n",
    "    def _pad(self, s):\n",
    "        return s + (self.bs - len(s) % self.bs) * chr(self.bs - len(s) % self.bs)\n",
    "\n",
    "    @staticmethod\n",
    "    def _unpad(s):\n",
    "        return s[:-ord(s[len(s)-1:])]\n",
    "\n",
    "aescipher = AESCipher()\n",
    "g = 2\n",
    "\n",
    "import numpy as np\n",
    "\n",
    "np.power(2, 4)\n",
    "\n",
    "#ciphertext = aescipher.encrypt(\"This is the rhythm of the night\", \"test\")\n",
    "#raw = aescipher.decrypt(ciphertext, \"test\")"
   ]
  },
  {
   "cell_type": "markdown",
   "metadata": {},
   "source": [
    "## Authenticated Key Exchange (AKE)\n",
    "\n",
    "This section outlines the version of the SIGMA protocol used as the AKE. All exponentiations are\n",
    "done modulo a particular 1536-bit prime, and g is a generator of that group, as indicated in the\n",
    "detailed description below. Alice and Bob's long-term authentication public keys are pubA and\n",
    "pubB, respectively.\n",
    "\n",
    "The general idea is that Alice and Bob do an unauthenticated Diffie-Hellman (D-H) key exchange\n",
    "to set up an encrypted channel, and then do mutual authentication inside that channel.\n",
    "\n",
    "Bob will be initiating the AKE with Alice.\n",
    "\n",
    "**1. Picks a random value r (128 bits)** https://bugs.otr.im/lib/libotr/blob/master/src/auth.c#L164"
   ]
  },
  {
   "cell_type": "code",
   "execution_count": null,
   "metadata": {},
   "outputs": [],
   "source": [
    "r = random.randrange(1 << 127, 1 << 128)\n",
    "r"
   ]
  },
  {
   "cell_type": "markdown",
   "metadata": {},
   "source": [
    "**2. Picks a random value x (at least 320 bits)**"
   ]
  },
  {
   "cell_type": "code",
   "execution_count": null,
   "metadata": {
    "scrolled": true
   },
   "outputs": [],
   "source": [
    "x = random.randrange(1 << 320, 1 << 321)\n",
    "x"
   ]
  },
  {
   "cell_type": "markdown",
   "metadata": {},
   "source": [
    "**Sends AESr(g^x), HASH(g^x) to Alice**"
   ]
  },
  {
   "cell_type": "code",
   "execution_count": null,
   "metadata": {},
   "outputs": [],
   "source": [
    "dec = g**x\n",
    "aescipher(dec, r)\n",
    "hash = hashlib.sha256(dec).digest()\n",
    "\n",
    "# Send to Alice\n"
   ]
  }
 ],
 "metadata": {
  "kernelspec": {
   "display_name": "Python 3",
   "language": "python",
   "name": "python3"
  },
  "language_info": {
   "codemirror_mode": {
    "name": "ipython",
    "version": 3
   },
   "file_extension": ".py",
   "mimetype": "text/x-python",
   "name": "python",
   "nbconvert_exporter": "python",
   "pygments_lexer": "ipython3",
   "version": "3.6.3"
  }
 },
 "nbformat": 4,
 "nbformat_minor": 2
}
